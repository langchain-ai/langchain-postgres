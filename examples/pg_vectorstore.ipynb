{
 "cells": [
  {
   "cell_type": "markdown",
   "metadata": {},
   "source": [
    "# PGVectorStore\n",
    "\n",
    "`PGVectorStore` is a an implementation of the the LangChain vectorstore abstraction using `postgres` as the backend.\n",
    "\n",
    "## Requirements\n",
    "\n",
    "You'll need a PostgreSQL database with the `pgvector` extension enabled.\n",
    "\n",
    "\n",
    "For local development, you can use the following docker command to spin up the database:\n",
    "\n",
    "```shell\n",
    "docker run --name pgvector-container -e POSTGRES_USER=langchain -e POSTGRES_PASSWORD=langchain -e POSTGRES_DB=langchain -p 6024:5432 -d pgvector/pgvector:pg16\n",
    "```"
   ]
  },
  {
   "cell_type": "markdown",
   "metadata": {
    "id": "IR54BmgvdHT_"
   },
   "source": [
    "## Install\n",
    "\n",
    "Install the `langchain-postgres` package."
   ]
  },
  {
   "cell_type": "code",
   "execution_count": null,
   "metadata": {
    "colab": {
     "base_uri": "https://localhost:8080/",
     "height": 1000
    },
    "id": "0ZITIDE160OD",
    "outputId": "e184bc0d-6541-4e0a-82d2-1e216db00a2d",
    "tags": []
   },
   "outputs": [],
   "source": [
    "%pip install --upgrade --quiet langchain-postgres"
   ]
  },
  {
   "cell_type": "markdown",
   "metadata": {
    "id": "QuQigs4UoFQ2"
   },
   "source": [
    "## Create an engine\n",
    "\n",
    "The first step is to create a `PGEngine` instance, which does the following:\n",
    "\n",
    "1. Allows you to create tables for storing documents and embeddings.\n",
    "2. Maintains a connection pool that manages connections to the database. This allows sharing of the connection pool and helps to reduce latency for database calls."
   ]
  },
  {
   "cell_type": "code",
   "execution_count": null,
   "metadata": {
    "tags": []
   },
   "outputs": [],
   "source": [
    "from langchain_postgres import PGEngine\n",
    "\n",
    "# See docker command above to launch a Postgres instance with pgvector enabled.\n",
    "# Replace these values with your own configuration.\n",
    "POSTGRES_USER = \"langchain\"\n",
    "POSTGRES_PASSWORD = \"langchain\"\n",
    "POSTGRES_HOST = \"localhost\"\n",
    "POSTGRES_PORT = \"6024\"\n",
    "POSTGRES_DB = \"langchain\"\n",
    "\n",
    "CONNECTION_STRING = (\n",
    "    f\"postgresql+asyncpg://{POSTGRES_USER}:{POSTGRES_PASSWORD}@{POSTGRES_HOST}\"\n",
    "    f\":{POSTGRES_PORT}/{POSTGRES_DB}\"\n",
    ")\n",
    "\n",
    "pg_engine = PGEngine.from_connection_string(url=CONNECTION_STRING)"
   ]
  },
  {
   "cell_type": "markdown",
   "metadata": {},
   "source": [
    "To use psycopg3 driver, set your connection string to `postgresql+psycopg://`"
   ]
  },
  {
   "cell_type": "markdown",
   "metadata": {
    "id": "D9Xs2qhm6X56"
   },
   "source": [
    "## Create a document collection\n",
    "\n",
    "Use the `PGEngine.ainit_vectorstore_table()` method to create a database table to store the documents and embeddings. This table will be created with appropriate schema."
   ]
  },
  {
   "cell_type": "code",
   "execution_count": null,
   "metadata": {
    "tags": []
   },
   "outputs": [],
   "source": [
    "TABLE_NAME = \"vectorstore\"\n",
    "\n",
    "# The vector size (also called embedding size) is determined by the embedding model you use!\n",
    "VECTOR_SIZE = 1536"
   ]
  },
  {
   "cell_type": "markdown",
   "metadata": {},
   "source": [
    "Use the `Column` class to customize the table schema. A Column is defined by a name and data type. Any Postgres [data type](https://www.postgresql.org/docs/current/datatype.html) can be used."
   ]
  },
  {
   "cell_type": "code",
   "execution_count": null,
   "metadata": {
    "id": "avlyHEMn6gzU",
    "tags": []
   },
   "outputs": [],
   "source": [
    "from sqlalchemy.exc import ProgrammingError\n",
    "\n",
    "from langchain_postgres import Column\n",
    "\n",
    "try:\n",
    "    await pg_engine.ainit_vectorstore_table(\n",
    "        table_name=TABLE_NAME,\n",
    "        vector_size=VECTOR_SIZE,\n",
    "        metadata_columns=[\n",
    "            Column(\"likes\", \"INTEGER\"),\n",
    "            Column(\"location\", \"TEXT\"),\n",
    "            Column(\"topic\", \"TEXT\"),\n",
    "        ],\n",
    "    )\n",
    "except ProgrammingError:\n",
    "    # Catching the exception here\n",
    "    print(\"Table already exists. Skipping creation.\")"
   ]
  },
  {
   "cell_type": "markdown",
   "metadata": {},
   "source": [
    "### Configure an embeddings model\n",
    "\n",
    "You need to configure a vectorstore with an embedding model. The embedding model will be used automatically when adding documents and when searching.\n",
    "\n",
    "We'll use `langchain-openai` as the embedding more here, but you can use any [LangChain embeddings model](https://python.langchain.com/docs/integrations/text_embedding/)."
   ]
  },
  {
   "cell_type": "code",
   "execution_count": null,
   "metadata": {
    "tags": []
   },
   "outputs": [],
   "source": [
    "%pip install --upgrade --quiet langchain-openai"
   ]
  },
  {
   "cell_type": "code",
   "execution_count": null,
   "metadata": {
    "colab": {
     "base_uri": "https://localhost:8080/"
    },
    "id": "Vb2RJocV9_LQ",
    "outputId": "37f5dc74-2512-47b2-c135-f34c10afdcf4",
    "tags": []
   },
   "outputs": [],
   "source": [
    "from langchain_openai import OpenAIEmbeddings\n",
    "\n",
    "embedding = OpenAIEmbeddings(model=\"text-embedding-3-small\")"
   ]
  },
  {
   "cell_type": "markdown",
   "metadata": {
    "id": "e1tl0aNx7SWy"
   },
   "source": [
    "## Initialize the vectorstore\n",
    "\n",
    "Once the schema for the document collection exists, you can initialize a vectorstore that uses the schema.\n",
    "\n",
    "You can use the vectorstore to do basic operations; including:\n",
    "\n",
    "1. Add documents\n",
    "2. Delete documents\n",
    "3. Search through the documents"
   ]
  },
  {
   "cell_type": "code",
   "execution_count": null,
   "metadata": {
    "id": "z-AZyzAQ7bsf",
    "tags": []
   },
   "outputs": [],
   "source": [
    "from langchain_postgres import PGVectorStore\n",
    "\n",
    "vectorstore = await PGVectorStore.create(\n",
    "    engine=pg_engine,\n",
    "    table_name=TABLE_NAME,\n",
    "    embedding_service=embedding,\n",
    "    metadata_columns=[\"location\", \"topic\"],\n",
    ")"
   ]
  },
  {
   "cell_type": "markdown",
   "metadata": {},
   "source": [
    "## Add documents\n",
    "\n",
    "\n",
    "You can add documents using the `aadd_documents` method. \n",
    "\n",
    "* Assign unique IDs to documents to avoid duplicated content in your database.\n",
    "* Adding a document by ID implements has `upsert` semantics (i.e., create if does not exist, update if exists)."
   ]
  },
  {
   "cell_type": "code",
   "execution_count": null,
   "metadata": {
    "tags": []
   },
   "outputs": [],
   "source": [
    "import uuid\n",
    "\n",
    "from langchain_core.documents import Document\n",
    "\n",
    "docs = [\n",
    "    Document(\n",
    "        id=uuid.uuid4(),\n",
    "        page_content=\"there are cats in the pond\",\n",
    "        metadata={\"likes\": 1, \"location\": \"pond\", \"topic\": \"animals\"},\n",
    "    ),\n",
    "    Document(\n",
    "        id=uuid.uuid4(),\n",
    "        page_content=\"ducks are also found in the pond\",\n",
    "        metadata={\"likes\": 30, \"location\": \"pond\", \"topic\": \"animals\"},\n",
    "    ),\n",
    "    Document(\n",
    "        id=uuid.uuid4(),\n",
    "        page_content=\"fresh apples are available at the market\",\n",
    "        metadata={\"likes\": 20, \"location\": \"market\", \"topic\": \"food\"},\n",
    "    ),\n",
    "    Document(\n",
    "        id=uuid.uuid4(),\n",
    "        page_content=\"the market also sells fresh oranges\",\n",
    "        metadata={\"likes\": 5, \"location\": \"market\", \"topic\": \"food\"},\n",
    "    ),\n",
    "]\n",
    "\n",
    "\n",
    "await vectorstore.aadd_documents(documents=docs)"
   ]
  },
  {
   "cell_type": "markdown",
   "metadata": {},
   "source": [
    "## Delete Documents\n",
    "\n",
    "Documents can be deleted by ID."
   ]
  },
  {
   "cell_type": "code",
   "execution_count": null,
   "metadata": {
    "tags": []
   },
   "outputs": [],
   "source": [
    "# We'll use the ID of the first doc to delete it\n",
    "ids = [docs[0].id]\n",
    "await vectorstore.adelete(ids)"
   ]
  },
  {
   "cell_type": "markdown",
   "metadata": {},
   "source": [
    "## Search\n",
    "\n",
    "Search for similar documents using a natural language query."
   ]
  },
  {
   "cell_type": "code",
   "execution_count": null,
   "metadata": {
    "tags": []
   },
   "outputs": [],
   "source": [
    "query = \"I'd like a fruit.\"\n",
    "docs = await vectorstore.asimilarity_search(query)\n",
    "for doc in docs:\n",
    "    print(repr(doc))"
   ]
  },
  {
   "cell_type": "markdown",
   "metadata": {},
   "source": [
    "### Search by vector"
   ]
  },
  {
   "cell_type": "code",
   "execution_count": null,
   "metadata": {
    "tags": []
   },
   "outputs": [],
   "source": [
    "query_vector = embedding.embed_query(query)\n",
    "docs = await vectorstore.asimilarity_search_by_vector(query_vector, k=2)\n",
    "print(docs)"
   ]
  },
  {
   "cell_type": "markdown",
   "metadata": {},
   "source": [
    "## Filtering"
   ]
  },
  {
   "cell_type": "markdown",
   "metadata": {},
   "source": [
    "To enable search with filters, it is necessary to declare the columns that you want to filter on when creating the table. The vectorstore supports a set of filters that can be applied against the metadata fields of the documents.\n",
    "\n",
    "`PGVectorStore` currently supports the following operators.\n",
    "\n",
    "| Operator  | Meaning/Category        |\n",
    "|-----------|-------------------------|\n",
    "| \\$eq       | Equality (==)           |\n",
    "| \\$ne       | Inequality (!=)         |\n",
    "| \\$lt       | Less than (<)           |\n",
    "| \\$lte      | Less than or equal (<=) |\n",
    "| \\$gt       | Greater than (>)        |\n",
    "| \\$gte      | Greater than or equal (>=) |\n",
    "| \\$in       | Special Cased (in)      |\n",
    "| \\$nin      | Special Cased (not in)  |\n",
    "| \\$between  | Special Cased (between) |\n",
    "| \\$exists   | Special Cased (is null) |\n",
    "| \\$contains_any | Special Cased (contains any of values) |\n",
    "| \\$contains_none| Special Cased (contains none of values) |\n",
    "| \\$like     | Text (like)             |\n",
    "| \\$ilike    | Text (case-insensitive like) |\n",
    "| \\$and      | Logical (and)           |\n",
    "| \\$or       | Logical (or)            |\n"
   ]
  },
  {
   "cell_type": "code",
   "execution_count": null,
   "metadata": {
    "tags": []
   },
   "outputs": [],
   "source": [
    "await vectorstore.asimilarity_search(\n",
    "    \"birds\", filter={\"$or\": [{\"topic\": \"animals\"}, {\"location\": \"market\"}]}\n",
    ")"
   ]
  },
  {
   "cell_type": "code",
   "execution_count": null,
   "metadata": {
    "tags": []
   },
   "outputs": [],
   "source": [
    "await vectorstore.asimilarity_search(\"apple\", filter={\"topic\": \"food\"})"
   ]
  },
  {
   "cell_type": "code",
   "execution_count": null,
   "metadata": {
    "tags": []
   },
   "outputs": [],
   "source": [
    "await vectorstore.asimilarity_search(\n",
    "    \"apple\", filter={\"topic\": {\"$in\": [\"food\", \"animals\"]}}\n",
    ")"
   ]
  },
  {
   "cell_type": "code",
   "execution_count": null,
   "metadata": {
    "tags": []
   },
   "outputs": [],
   "source": [
    "await vectorstore.asimilarity_search(\n",
    "    \"sales of fruit\", filter={\"topic\": {\"$ne\": \"animals\"}}\n",
    ")"
   ]
  },
  {
   "cell_type": "markdown",
   "metadata": {},
   "source": [
    "## Optimization\n",
    "\n",
    "Speed up vector search queries by adding appropriate indexes. Learn more about [vector indexes](https://cloud.google.com/blog/products/databases/faster-similarity-search-performance-with-pgvector-indexes)."
   ]
  },
  {
   "cell_type": "markdown",
   "metadata": {},
   "source": [
    "### Add an Index"
   ]
  },
  {
   "cell_type": "code",
   "execution_count": null,
   "metadata": {
    "tags": []
   },
   "outputs": [],
   "source": [
    "from langchain_postgres.v2.indexes import IVFFlatIndex\n",
    "\n",
    "index = IVFFlatIndex()  # Add an index using a default index name\n",
    "await vectorstore.aapply_vector_index(index)"
   ]
  },
  {
   "cell_type": "markdown",
   "metadata": {},
   "source": [
    "### Re-index\n",
    "\n",
    "Rebuild an index using the data stored in the index's table, replacing the old copy of the index. Some index types may require re-indexing after a considerable amount of new data is added."
   ]
  },
  {
   "cell_type": "code",
   "execution_count": null,
   "metadata": {
    "tags": []
   },
   "outputs": [],
   "source": [
    "await vectorstore.areindex()  # Re-index using default index name"
   ]
  },
  {
   "cell_type": "markdown",
   "metadata": {},
   "source": [
    "### Drop an index\n",
    "\n",
    "You can delete indexes"
   ]
  },
  {
   "cell_type": "code",
   "execution_count": null,
   "metadata": {
    "tags": []
   },
   "outputs": [],
   "source": [
    "await vectorstore.adrop_vector_index()  # Drop index using default name"
   ]
  },
  {
   "cell_type": "markdown",
   "metadata": {},
   "source": [
    "## Clean up\n",
    "\n",
    "**⚠️ WARNING: this can not be undone**\n",
    "\n",
    "Drop the vector store table."
   ]
  },
  {
   "cell_type": "code",
   "execution_count": null,
   "metadata": {},
   "outputs": [],
   "source": [
    "await pg_engine.adrop_table(TABLE_NAME)"
   ]
  }
 ],
 "metadata": {
  "colab": {
   "provenance": [],
   "toc_visible": true
  },
  "kernelspec": {
   "display_name": "Python 3 (ipykernel)",
   "language": "python",
   "name": "python3"
  },
  "language_info": {
   "codemirror_mode": {
    "name": "ipython",
    "version": 3
   },
   "file_extension": ".py",
   "mimetype": "text/x-python",
   "name": "python",
   "nbconvert_exporter": "python",
   "pygments_lexer": "ipython3",
   "version": "3.11.4"
  }
 },
 "nbformat": 4,
 "nbformat_minor": 4
}
